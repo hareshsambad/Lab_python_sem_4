{
 "cells": [
  {
   "cell_type": "markdown",
   "metadata": {},
   "source": [
    "<a href='https://www.darshan.ac.in/'> <img src='https://www.darshan.ac.in/Content/media/DU_Logo.svg' width=\"250\" height=\"300\"/></a>\n",
    "<pre>\n",
    "<center><b><h1>Python Programming - 2301CS404</b></center>\n",
    "<center><b><h1>Lab - 8</b></center>    \n",
    "<pre>"
   ]
  },
  {
   "cell_type": "markdown",
   "metadata": {},
   "source": [
    "# User Defined Function"
   ]
  },
  {
   "cell_type": "markdown",
   "metadata": {},
   "source": [
    "### 01) Write a function to calculate BGMI given mass and height. (BGMI = mass/h**2)"
   ]
  },
  {
   "cell_type": "code",
   "execution_count": 14,
   "metadata": {},
   "outputs": [
    {
     "name": "stdout",
     "output_type": "stream",
     "text": [
      "Enter Mass : > 4\n",
      "Enter height : > 2\n",
      "BMI Is : >  1.0\n"
     ]
    }
   ],
   "source": [
    "mass = int(input(\"Enter Mass : > \"))\n",
    "h = int(input(\"Enter height : > \"))\n",
    "BMI = calculate_BMI(mass,h)\n",
    "\n",
    "def calculate_BMI(mass,h):\n",
    "    BMI = ((mass)/(h**2))\n",
    "    print(\"BMI Is : > \", BMI)"
   ]
  },
  {
   "cell_type": "markdown",
   "metadata": {},
   "source": [
    "### 02) Write a function that add first n numbers."
   ]
  },
  {
   "cell_type": "code",
   "execution_count": 25,
   "metadata": {},
   "outputs": [
    {
     "name": "stdout",
     "output_type": "stream",
     "text": [
      "Your Sum Is : >  55\n"
     ]
    }
   ],
   "source": [
    "n2 = 10\n",
    "sum2\n",
    "\n",
    "def add_number(n2):\n",
    "    global sum2\n",
    "    for i in range(1,n2+1):\n",
    "        sum2 += i\n",
    "\n",
    "add_number(n2)\n",
    "print(\"Your Sum Is : > \" ,sum2)\n",
    "\n",
    "        "
   ]
  },
  {
   "cell_type": "markdown",
   "metadata": {},
   "source": [
    "### 03) Write a function that returns 1 if the given number is Prime or 0 otherwise."
   ]
  },
  {
   "cell_type": "code",
   "execution_count": 47,
   "metadata": {},
   "outputs": [
    {
     "name": "stdout",
     "output_type": "stream",
     "text": [
      "Enter Number :> 0\n",
      "Your Number Is Not Prime ....\n"
     ]
    }
   ],
   "source": [
    "n3 = int(input(\"Enter Number :> \"))\n",
    "isPrime = 0\n",
    "\n",
    "def prime_number(n3):\n",
    "    global isPrime\n",
    "    for i in range(1,n3+1):\n",
    "        if(n3%i==0):\n",
    "            isPrime += 1\n",
    "           \n",
    "    if(isPrime == 2):\n",
    "        print(\"Your Number Is Prime ....\")\n",
    "    else:\n",
    "        print(\"Your Number Is Not Prime ....\")\n",
    "        \n",
    "prime_number(n3)\n",
    "            \n",
    "    "
   ]
  },
  {
   "cell_type": "markdown",
   "metadata": {},
   "source": [
    "### 04) Write a function that returns the list of Prime numbers between given two numbers."
   ]
  },
  {
   "cell_type": "code",
   "execution_count": 70,
   "metadata": {},
   "outputs": [
    {
     "name": "stdout",
     "output_type": "stream",
     "text": [
      "Enter Number :> 2\n",
      "Enter Number :> 3\n",
      "Your Number Is Prime .... 2\n",
      "Your Number Is Prime .... 3\n"
     ]
    }
   ],
   "source": [
    "n4a = int(input(\"Enter Number :> \"))\n",
    "n4b = int(input(\"Enter Number :> \"))\n",
    "isPrime = 0\n",
    "\n",
    "\n",
    "def prime_number(n4a,n4b):\n",
    "    isPrime = 0\n",
    "    for i in range(n4a,n4b+1):\n",
    "        for j in range(2,i):\n",
    "            if(i%j==0):\n",
    "                isPrime = 1\n",
    "                \n",
    "        if(isPrime ==0 ):\n",
    "            print(\"Your Number Is Prime ....\" , i)\n",
    "        isPrime = 0\n",
    "\n",
    "prime_number(n4a,n4b)\n",
    "            \n",
    "    "
   ]
  },
  {
   "cell_type": "markdown",
   "metadata": {},
   "source": [
    "### 05) Write a function that returns True if the given string is Palindrome or False otherwise."
   ]
  },
  {
   "cell_type": "code",
   "execution_count": null,
   "metadata": {},
   "outputs": [],
   "source": [
    "def palindrome(s1):\n",
    "    i=0\n",
    "    j=len(s1)-1\n",
    "    for i in range(int(len(s1)/2)):\n",
    "        if(s1[i]==s1[j]):\n",
    "            i+=1\n",
    "            j-=1\n",
    "        else:\n",
    "            return False\n",
    "    return True \n",
    "print(palindrome('madam'))"
   ]
  },
  {
   "cell_type": "markdown",
   "metadata": {},
   "source": [
    "### 06) Write a function that returns the sum of all the elements of the list."
   ]
  },
  {
   "cell_type": "code",
   "execution_count": null,
   "metadata": {},
   "outputs": [],
   "source": [
    "def sumList(l1):\n",
    "    return sum(l1)\n",
    "sumList([1,2,3,4,5])"
   ]
  },
  {
   "cell_type": "markdown",
   "metadata": {},
   "source": [
    "### 07) Write a function to calculate the sum of the first element of each tuples inside the list."
   ]
  },
  {
   "cell_type": "code",
   "execution_count": null,
   "metadata": {},
   "outputs": [],
   "source": [
    "l1 = [(6, 2, 3),(4, 7),(5,2 ,5 ,3)]\n",
    "def sum1(l):\n",
    "    ans  = 0\n",
    "    for i in l:\n",
    "        ans = ans + i[0]\n",
    "    return ans\n",
    "answer  =  sum1(l1)\n",
    "answer"
   ]
  },
  {
   "cell_type": "markdown",
   "metadata": {},
   "source": [
    "### 08) Write a recursive function to find nth term of Fibonacci Series."
   ]
  },
  {
   "cell_type": "code",
   "execution_count": 77,
   "metadata": {},
   "outputs": [],
   "source": [
    "def fib(n):\n",
    "    if(n == 0 or n == 1):\n",
    "        return n\n",
    "    else:\n",
    "        return(fib + 1)"
   ]
  },
  {
   "cell_type": "markdown",
   "metadata": {},
   "source": [
    "### 09) Write a function to get the name of the student based on the given rollno.\n",
    "#### Example: Given dict1 = {101:'Ajay', 102:'Rahul', 103:'Jay', 104:'Pooja'} find name of student whose rollno = 103"
   ]
  },
  {
   "cell_type": "code",
   "execution_count": 74,
   "metadata": {},
   "outputs": [
    {
     "name": "stdout",
     "output_type": "stream",
     "text": [
      "Enter Roll No : 101\n"
     ]
    },
    {
     "data": {
      "text/plain": [
       "'Ajay'"
      ]
     },
     "execution_count": 74,
     "metadata": {},
     "output_type": "execute_result"
    }
   ],
   "source": [
    "dict1 = {101:'Ajay',102:'Rahul',103:'Pooja'}\n",
    "rollNo = int(input(\"Enter Roll No : \"))\n",
    "dict1.get(rollNo)\n"
   ]
  },
  {
   "cell_type": "markdown",
   "metadata": {},
   "source": [
    "### 10) Write a function to get the sum of the scores ending with zero.\n",
    "#### Example : scores = [200, 456, 300, 100, 234, 678] \n",
    "#### Ans = 200 + 300 + 100 = 600"
   ]
  },
  {
   "cell_type": "code",
   "execution_count": null,
   "metadata": {},
   "outputs": [],
   "source": [
    "scores = [200, 456, 300, 100, 234, 678]\n",
    "def sumofscore(scores):\n",
    "    ans = 0 \n",
    "    for i in scores:\n",
    "        if i % 10 == 0:\n",
    "            ans = ans +i\n",
    "    return ans\n",
    "answer = sumofscore(scores)\n",
    "answer"
   ]
  },
  {
   "cell_type": "markdown",
   "metadata": {},
   "source": [
    "### 11) Write a function to invert a given Dictionary.\n",
    "#### hint: keys to values & values to keys\n",
    "#### Before : {'a': 10, 'b':20, 'c':30, 'd':40}\n",
    "#### After : {10:'a', 20:'b', 30:'c', 40:'d'}"
   ]
  },
  {
   "cell_type": "code",
   "execution_count": null,
   "metadata": {},
   "outputs": [],
   "source": [
    "dic = {'a': 10, 'b':20, 'c':30, 'd':40}\n",
    "def swap(d):\n",
    "    return {v : k for k ,v in d.items()}\n",
    "ans = swap(dic)\n",
    "ans\n"
   ]
  },
  {
   "cell_type": "markdown",
   "metadata": {},
   "source": [
    "### 12) Write a function to check whether the given string is Pangram or not.\n",
    "#### hint: Pangram is a string containing all the characters a-z atlest once.\n",
    "#### \"the quick brown fox jumps over the lazy dog\" is a Pangram string."
   ]
  },
  {
   "cell_type": "code",
   "execution_count": 76,
   "metadata": {},
   "outputs": [
    {
     "name": "stdout",
     "output_type": "stream",
     "text": [
      "enter first number :1\n",
      "enter last number :10\n"
     ]
    },
    {
     "data": {
      "text/plain": [
       "[1, 2, 3, 5, 7]"
      ]
     },
     "execution_count": 76,
     "metadata": {},
     "output_type": "execute_result"
    }
   ],
   "source": [
    "string =\"the quick brown fox jumps over the lazy dog\"\n",
    "set1 = set(string.lower())\n",
    "set1.remove(' ')\n",
    "def panagram(set1):\n",
    "    if(len(set1)==26):\n",
    "        print(\"Pangram string\")\n",
    "    else:\n",
    "        print(\"not Pangram string\")\n",
    "panagram(set1)"
   ]
  },
  {
   "cell_type": "markdown",
   "metadata": {},
   "source": [
    "### 13) Write a function that returns the number of uppercase and lowercase letters in the given string. \n",
    "#### example : Input : s1 = AbcDEfgh ,Ouptput : no_upper = 3, no_lower = 5"
   ]
  },
  {
   "cell_type": "code",
   "execution_count": null,
   "metadata": {},
   "outputs": [],
   "source": [
    "def upperlower(s1):\n",
    "    \n",
    "    no_upper =0\n",
    "    no_lower =0\n",
    "    for i in s1:\n",
    "        print(i)\n",
    "        if i.isupper():\n",
    "            no_upper = no_upper+1\n",
    "            \n",
    "        elif i.islower():\n",
    "            no_lower = no_lower +1\n",
    "    return list([no_upper,no_lower])\n",
    "upperlower(\"AbcDEfgh\")"
   ]
  },
  {
   "cell_type": "markdown",
   "metadata": {},
   "source": [
    "### 14) Write a lambda function to get smallest number from the given two numbers."
   ]
  },
  {
   "cell_type": "code",
   "execution_count": null,
   "metadata": {},
   "outputs": [],
   "source": []
  },
  {
   "cell_type": "markdown",
   "metadata": {},
   "source": [
    "### 15) For the given list of names of students, extract the names having more that 7 characters. Use filter()."
   ]
  },
  {
   "cell_type": "code",
   "execution_count": null,
   "metadata": {},
   "outputs": [],
   "source": []
  },
  {
   "cell_type": "markdown",
   "metadata": {},
   "source": [
    "### 16) For the given list of names of students, convert the first letter of all the names into uppercase. use map()."
   ]
  },
  {
   "cell_type": "code",
   "execution_count": null,
   "metadata": {},
   "outputs": [],
   "source": []
  },
  {
   "cell_type": "markdown",
   "metadata": {},
   "source": [
    "### 17) Write udfs to call the functions with following types of arguments:\n",
    "1. Positional Arguments\n",
    "2. Keyword Arguments\n",
    "3. Default Arguments\n",
    "4. Variable Legngth Positional(*args) & variable length Keyword Arguments (**kwargs)\n",
    "5. Keyword-Only & Positional Only Arguments"
   ]
  },
  {
   "cell_type": "code",
   "execution_count": null,
   "metadata": {},
   "outputs": [],
   "source": []
  }
 ],
 "metadata": {
  "kernelspec": {
   "display_name": "Python 3 (ipykernel)",
   "language": "python",
   "name": "python3"
  },
  "language_info": {
   "codemirror_mode": {
    "name": "ipython",
    "version": 3
   },
   "file_extension": ".py",
   "mimetype": "text/x-python",
   "name": "python",
   "nbconvert_exporter": "python",
   "pygments_lexer": "ipython3",
   "version": "3.10.9"
  }
 },
 "nbformat": 4,
 "nbformat_minor": 4
}
